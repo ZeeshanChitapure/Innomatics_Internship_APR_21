{
 "cells": [
  {
   "cell_type": "code",
   "execution_count": null,
   "metadata": {},
   "outputs": [],
   "source": [
    "# Question 1\n",
    "def swap_case(s):\n",
    "    x=\"\"\n",
    "    for i in s:\n",
    "        if i.isupper():\n",
    "            i=i.lower()\n",
    "        else:\n",
    "            i=i.upper()\n",
    "        x+=\"\".join(i)\n",
    "    return x"
   ]
  },
  {
   "cell_type": "code",
   "execution_count": null,
   "metadata": {},
   "outputs": [],
   "source": [
    "# Question 2\n",
    "def split_and_join(line):\n",
    "    a=\"-\".join(line.split())\n"
   ]
  },
  {
   "cell_type": "code",
   "execution_count": null,
   "metadata": {},
   "outputs": [],
   "source": [
    "# Question 3\n",
    "def print_full_name(first, last):\n",
    "    print(\"Hello %s %s! You just delved into python.\" %(first, last))"
   ]
  },
  {
   "cell_type": "code",
   "execution_count": null,
   "metadata": {},
   "outputs": [],
   "source": [
    "# Question 4 \n",
    "def mutate_string(string, position, character):\n",
    "    l = list(string)\n",
    "    l[position] = character\n",
    "    string = ''.join(l)\n",
    "    return string"
   ]
  },
  {
   "cell_type": "code",
   "execution_count": null,
   "metadata": {},
   "outputs": [],
   "source": [
    "# Question 5\n",
    "def count_substring(string, sub_string):\n",
    "    a=len(string)\n",
    "    b=len(sub_string)\n",
    "    c=0\n",
    "    for i in range(a-b+1):\n",
    "        if(string[i:(i+b)]==sub_string):\n",
    "            c=c+1\n",
    "    return c"
   ]
  },
  {
   "cell_type": "code",
   "execution_count": null,
   "metadata": {},
   "outputs": [],
   "source": [
    "# Question 6\n",
    "s = input()\n",
    "print(any([i.isalnum() for i in s]))\n",
    "print(any([i.isalpha() for i in s])\n",
    "print(any([i.isdigit() for i in s]))\n",
    "print(any([i.islower() for i in s]))\n",
    "print(any([i.isupper() for i in s]))"
   ]
  },
  {
   "cell_type": "code",
   "execution_count": null,
   "metadata": {},
   "outputs": [],
   "source": [
    "# Question 7\n",
    "thickness = int(input()) #This must be an odd number\n",
    "c = 'H'\n",
    "\n",
    "#Top Cone\n",
    "for i in range(thickness):\n",
    "    print((c*i).rjust(thickness-1)+c+(c*i).ljust(thickness-1))\n",
    "\n",
    "#Top Pillars\n",
    "for i in range(thickness+1):\n",
    "    print((c*thickness).center(thickness*2)+(c*thickness).center(thickness*6))\n",
    "\n",
    "#Middle Belt\n",
    "for i in range((thickness+1)//2):\n",
    "    print((c*thickness*5).center(thickness*6))    \n",
    "\n",
    "#Bottom Pillars\n",
    "for i in range(thickness+1):\n",
    "    print((c*thickness).center(thickness*2)+(c*thickness).center(thickness*6))    \n",
    "\n",
    "#Bottom Cone\n",
    "for i in range(thickness):\n",
    "    print(((c*(thickness-i-1)).rjust(thickness)+c+(c*(thickness-i-1)).ljust(thickness)).rjust(thickness*6))\n"
   ]
  },
  {
   "cell_type": "code",
   "execution_count": null,
   "metadata": {},
   "outputs": [],
   "source": [
    "# Question 8\n",
    "import textwrap\n",
    "def wrap(string, max_width):\n",
    "    return textwrap.fill(string,max_width)"
   ]
  },
  {
   "cell_type": "code",
   "execution_count": null,
   "metadata": {},
   "outputs": [],
   "source": [
    "# Question 9\n",
    "N,M=map(int, input().split(' '))\n",
    "for i in range(1,N,2):\n",
    "    print((\".|.\"*i).center(M,\"-\"))\n",
    "print(\"WELCOME\".center(M,\"-\"))\n",
    "for i in range(N-2,-1,-2):\n",
    "    print((\".|.\"*i).center(M,\"-\"))"
   ]
  },
  {
   "cell_type": "code",
   "execution_count": null,
   "metadata": {},
   "outputs": [],
   "source": [
    "# Question 10\n",
    "def print_formatted(number):\n",
    "    a=len(\"{0:b}\".format(number))\n",
    "    for i in range(1,number+1):\n",
    "        print(\"{0:{w}d} {0:{w}o} {0:{w}X} {0:{w}b}\".format(i,w=a))"
   ]
  },
  {
   "cell_type": "code",
   "execution_count": null,
   "metadata": {},
   "outputs": [],
   "source": [
    "#Question 11\n",
    "n=int(input())\n",
    "for i in range(n):\n",
    "    s=\"-\".join(chr(ord('a')+n-j-1) for j in range(i+1))\n",
    "    print((s+s[::-1][1:]).center(n*4-3,\"-\"))\n",
    "for i in range(n-1):\n",
    "    s=\"-\".join(chr(ord('a')+n-j-1) for j in range(n-i-1))\n",
    "    print((s+s[::-1][1:]).center(n*4-3,\"-\"))"
   ]
  },
  {
   "cell_type": "code",
   "execution_count": null,
   "metadata": {},
   "outputs": [],
   "source": [
    "# Question 12\n",
    "def solve(s):\n",
    "    l=s.split(\" \")\n",
    "    s=''\n",
    "    for i in l:\n",
    "        s=s+i.capitalize()+' '\n",
    "    return s"
   ]
  },
  {
   "cell_type": "code",
   "execution_count": null,
   "metadata": {},
   "outputs": [],
   "source": [
    "# Question 13\n",
    "def minion_game(string):\n",
    "    # your code goes here\n",
    "    a=len(string)\n",
    "    con,vow=0,0\n",
    "    for i in range(a):\n",
    "        if string[i] in 'AIEOU':\n",
    "            vow=vow+(a-i)\n",
    "        else:\n",
    "            con=con+(a-i)\n",
    "    if con>vow:\n",
    "        print(\"Stuart {}\".format(con))\n",
    "    elif con==vow:\n",
    "        print(\"Draw\")\n",
    "    else:\n",
    "        print(\"Kevin {}\".format(vow))  "
   ]
  },
  {
   "cell_type": "code",
   "execution_count": null,
   "metadata": {},
   "outputs": [],
   "source": [
    "# Question 14\n",
    "def merge_the_tools(string, k):\n",
    "    c=0\n",
    "    s=''\n",
    "    for i in string:\n",
    "        if i not in s:\n",
    "            s=s+i\n",
    "        c+=1\n",
    "        if(c==k):\n",
    "            print(s)\n",
    "            c=0\n",
    "            s=''"
   ]
  }
 ],
 "metadata": {
  "kernelspec": {
   "display_name": "Python 3",
   "language": "python",
   "name": "python3"
  },
  "language_info": {
   "codemirror_mode": {
    "name": "ipython",
    "version": 3
   },
   "file_extension": ".py",
   "mimetype": "text/x-python",
   "name": "python",
   "nbconvert_exporter": "python",
   "pygments_lexer": "ipython3",
   "version": "3.8.5"
  }
 },
 "nbformat": 4,
 "nbformat_minor": 4
}
