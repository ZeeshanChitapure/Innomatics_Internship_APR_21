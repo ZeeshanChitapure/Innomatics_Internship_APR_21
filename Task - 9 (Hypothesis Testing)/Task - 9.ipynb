{
 "cells": [
  {
   "cell_type": "code",
   "execution_count": 1,
   "metadata": {},
   "outputs": [],
   "source": [
    "import matplotlib.pyplot as plt\n",
    "import numpy as np\n",
    "from scipy.stats import norm\n",
    "from scipy.stats import t"
   ]
  },
  {
   "cell_type": "markdown",
   "metadata": {},
   "source": [
    "Q-1: Pista House selling Hyderabadi Chicken Dum biryani claims that each parcel packet has 500 grams of biryani (also mentioned on the label of packet). You are sceptic of their claims and believe that on average each packet does not contain 500 grams of biryani. How do you prove your claim?\n"
   ]
  },
  {
   "cell_type": "markdown",
   "metadata": {},
   "source": [
    "H0= parcel is not 500 grams(Null)                                                                                      \n",
    "H1=parcel is of 500 grams(Bold Claim)                                                                                  \n",
    "population std is not given"
   ]
  },
  {
   "cell_type": "markdown",
   "metadata": {},
   "source": [
    "Step:2                                                                                                                 \n",
    "    n=10                                                                                                              \n",
    "    [490,220,470,500,495,496,496,498,508,480]"
   ]
  },
  {
   "cell_type": "code",
   "execution_count": 2,
   "metadata": {},
   "outputs": [
    {
     "data": {
      "text/plain": [
       "465.3"
      ]
     },
     "execution_count": 2,
     "metadata": {},
     "output_type": "execute_result"
    }
   ],
   "source": [
    "l = [490, 220, 470, 500, 495, 496, 496, 498, 508, 480]\n",
    "\n",
    "sum(l)/len(l)"
   ]
  },
  {
   "cell_type": "code",
   "execution_count": 3,
   "metadata": {},
   "outputs": [
    {
     "name": "stdout",
     "output_type": "stream",
     "text": [
      "2.093024054408263\n"
     ]
    }
   ],
   "source": [
    "\n",
    "# Two tail\n",
    "\n",
    "confidence_level = 0.95\n",
    "\n",
    "alpha = 1 - confidence_level\n",
    "\n",
    "alpha = 1 - 0.95\n",
    "\n",
    "t_critical = t.ppf(1-alpha/2, df = 19)\n",
    "\n",
    "print(t_critical)\n",
    "\n"
   ]
  },
  {
   "cell_type": "code",
   "execution_count": 4,
   "metadata": {},
   "outputs": [],
   "source": [
    "# Defining the sample and population parameters\n",
    "\n",
    "sample_size = 10\n",
    "sample_mean = 465.3\n",
    "pop_mean = 500"
   ]
  },
  {
   "cell_type": "code",
   "execution_count": 5,
   "metadata": {},
   "outputs": [
    {
     "data": {
      "text/plain": [
       "[610, 60172, 22, 1204, 882, 942, 942, 1069, 1823, 216]"
      ]
     },
     "execution_count": 5,
     "metadata": {},
     "output_type": "execute_result"
    }
   ],
   "source": [
    "l1=[]\n",
    "for i in (l):\n",
    "    x=(sample_mean-i)**2\n",
    "    l1.append(round(x))\n",
    "l1"
   ]
  },
  {
   "cell_type": "code",
   "execution_count": 6,
   "metadata": {},
   "outputs": [
    {
     "data": {
      "text/plain": [
       "[610, 60172, 22, 1204, 882, 942, 942, 1069, 1823, 216]"
      ]
     },
     "execution_count": 6,
     "metadata": {},
     "output_type": "execute_result"
    }
   ],
   "source": [
    "l1"
   ]
  },
  {
   "cell_type": "code",
   "execution_count": 7,
   "metadata": {},
   "outputs": [
    {
     "data": {
      "text/plain": [
       "82"
      ]
     },
     "execution_count": 7,
     "metadata": {},
     "output_type": "execute_result"
    }
   ],
   "source": [
    "var=sum(l1)/len(l1)\n",
    "s=round(var**0.5)\n",
    "s"
   ]
  },
  {
   "cell_type": "code",
   "execution_count": 8,
   "metadata": {},
   "outputs": [],
   "source": [
    "\n",
    "def t_score(sample_size, sample_mean, pop_mean, s):\n",
    "    numerator = sample_mean - pop_mean\n",
    "    denomenator = s/ sample_size**0.5\n",
    "    return numerator / denomenator"
   ]
  },
  {
   "cell_type": "code",
   "execution_count": 9,
   "metadata": {},
   "outputs": [
    {
     "name": "stdout",
     "output_type": "stream",
     "text": [
      "-1.3381833513151553\n"
     ]
    }
   ],
   "source": [
    "# Calculating the z-score\n",
    "\n",
    "t = t_score(sample_size, sample_mean, pop_mean,s)\n",
    "\n",
    "print(t)"
   ]
  },
  {
   "cell_type": "code",
   "execution_count": 10,
   "metadata": {},
   "outputs": [
    {
     "data": {
      "text/plain": [
       "Text(465.3, 0.0007, 'x_bar')"
      ]
     },
     "execution_count": 10,
     "metadata": {},
     "output_type": "execute_result"
    },
    {
     "data": {
      "image/png": "[encoded data removed]",
      "text/plain": [
       "<Figure size 432x288 with 1 Axes>"
      ]
     },
     "metadata": {
      "needs_background": "light"
     },
     "output_type": "display_data"
    }
   ],
   "source": [
    "# Ploting the sampling distribution with rejection regions\n",
    "\n",
    "# Defining the x minimum and x maximum\n",
    "x_min = 400\n",
    "x_max = 600\n",
    "\n",
    "\n",
    "# Defining the sampling distribution mean and sampling distribution std\n",
    "mean = pop_mean\n",
    "std = s/ sample_size**0.5\n",
    "\n",
    "\n",
    "# Ploting the graph and setting the x limits\n",
    "x = np.linspace(x_min, x_max, 100)\n",
    "y = norm.pdf(x, mean, std)\n",
    "plt.xlim(x_min, x_max)\n",
    "plt.plot(x, y)\n",
    "\n",
    "\n",
    "# Computing the left and right critical values (Two tailed Test)\n",
    "t_critical_left = pop_mean + (-t_critical * std)\n",
    "t_critical_right = pop_mean + (t_critical * std)\n",
    "\n",
    "\n",
    "# Shading the left rejection region\n",
    "x1 = np.linspace(x_min, t_critical_left, 100)\n",
    "y1 = norm.pdf(x1, mean, std)\n",
    "plt.fill_between(x1, y1, color='orange')\n",
    "\n",
    "\n",
    "# Shading the right rejection region\n",
    "x2 = np.linspace(t_critical_right, x_max, 100)\n",
    "y2 = norm.pdf(x2, mean, std)\n",
    "plt.fill_between(x2, y2, color='orange')\n",
    "\n",
    "\n",
    "# Ploting the sample mean and concluding the results \n",
    "plt.scatter(sample_mean, 0)\n",
    "plt.annotate(\"x_bar\", (sample_mean, 0.0007))\n",
    "\n",
    "\n",
    "# In this case sample mean falls in the rejection region\n",
    "# i.e. here we reject the Null Hypothesis\n",
    "\n"
   ]
  },
  {
   "cell_type": "code",
   "execution_count": 11,
   "metadata": {},
   "outputs": [
    {
     "name": "stdout",
     "output_type": "stream",
     "text": [
      "Fail to reject Null Hypothesis\n"
     ]
    }
   ],
   "source": [
    "# Conclusion using z test\n",
    "\n",
    "if(np.abs(t) > t_critical):\n",
    "    print(\"Reject Null Hypothesis\")\n",
    "else:\n",
    "    print(\"Fail to reject Null Hypothesis\")\n",
    "\n"
   ]
  },
  {
   "cell_type": "code",
   "execution_count": 12,
   "metadata": {},
   "outputs": [
    {
     "name": "stdout",
     "output_type": "stream",
     "text": [
      "p_value =  0.18083667490643318\n",
      "Fail to reject Null Hypothesis\n"
     ]
    }
   ],
   "source": [
    "p_value = 2 * (1.0 - norm.cdf(np.abs(t)))\n",
    "\n",
    "print(\"p_value = \", p_value)\n",
    "\n",
    "if(p_value < alpha):\n",
    "    print(\"Reject Null Hypothesis\")\n",
    "else:\n",
    "    print(\"Fail to reject Null Hypothesis\")"
   ]
  },
  {
   "cell_type": "markdown",
   "metadata": {},
   "source": [
    "Q-2: You have developed a new Natural Language Processing Algorithms and done a user study. You claim that the average rating given by the users is greater than 4 on a scale of 1 to 5. How do you prove this to your client?"
   ]
  },
  {
   "cell_type": "markdown",
   "metadata": {},
   "source": [
    "H0= avg is less than or equal to 4 (Null)                                                                                      \n",
    "H1=average rating given by the users is greater than 4(Bold Claim)                                                                                  \n",
    "population std is not given"
   ]
  },
  {
   "cell_type": "markdown",
   "metadata": {},
   "source": [
    "Step:2                                                                                                                 \n",
    "    n=20                                                                                                              \n",
    "    [4,3,5,4,5,3,5,5,4,2,4,5,5,4,4,5,4,5,4,5]"
   ]
  },
  {
   "cell_type": "code",
   "execution_count": 13,
   "metadata": {},
   "outputs": [
    {
     "name": "stdout",
     "output_type": "stream",
     "text": [
      "1.729132811521367\n"
     ]
    }
   ],
   "source": [
    "# Two tail\n",
    "from scipy.stats import t\n",
    "confidence_level = 0.95\n",
    "\n",
    "alpha = 1 - confidence_level\n",
    "\n",
    "alpha = 1 - 0.95\n",
    "\n",
    "t_critical = t.ppf(1-alpha, df = 19)\n",
    "\n",
    "print(t_critical)"
   ]
  },
  {
   "cell_type": "code",
   "execution_count": 14,
   "metadata": {},
   "outputs": [],
   "source": [
    "# Defining the sample and population parameters\n",
    "\n",
    "sample_size = 20\n",
    "sample_mean = 4.25\n",
    "pop_mean = 4"
   ]
  },
  {
   "cell_type": "code",
   "execution_count": 15,
   "metadata": {},
   "outputs": [
    {
     "data": {
      "text/plain": [
       "4.25"
      ]
     },
     "execution_count": 15,
     "metadata": {},
     "output_type": "execute_result"
    }
   ],
   "source": [
    "l=[4,3,5,4,5,3,5,5,4,2,4,5,5,4,4,5,4,5,4,5]\n",
    "sum(l)/len(l)"
   ]
  },
  {
   "cell_type": "code",
   "execution_count": 16,
   "metadata": {},
   "outputs": [
    {
     "data": {
      "text/plain": [
       "[0.0625,\n",
       " 1.5625,\n",
       " 0.5625,\n",
       " 0.0625,\n",
       " 0.5625,\n",
       " 1.5625,\n",
       " 0.5625,\n",
       " 0.5625,\n",
       " 0.0625,\n",
       " 5.0625,\n",
       " 0.0625,\n",
       " 0.5625,\n",
       " 0.5625,\n",
       " 0.0625,\n",
       " 0.0625,\n",
       " 0.5625,\n",
       " 0.0625,\n",
       " 0.5625,\n",
       " 0.0625,\n",
       " 0.5625]"
      ]
     },
     "execution_count": 16,
     "metadata": {},
     "output_type": "execute_result"
    }
   ],
   "source": [
    "l1=[]\n",
    "for i in (l):\n",
    "    x=(sample_mean-i)**2\n",
    "    l1.append(x)\n",
    "l1"
   ]
  },
  {
   "cell_type": "code",
   "execution_count": 17,
   "metadata": {},
   "outputs": [
    {
     "data": {
      "text/plain": [
       "0.82915619758885"
      ]
     },
     "execution_count": 17,
     "metadata": {},
     "output_type": "execute_result"
    }
   ],
   "source": [
    "var=sum(l1)/len(l1)\n",
    "s=(var**0.5)\n",
    "s"
   ]
  },
  {
   "cell_type": "code",
   "execution_count": 18,
   "metadata": {},
   "outputs": [],
   "source": [
    "def t_score(sample_size, sample_mean, pop_mean, s):\n",
    "    numerator = sample_mean - pop_mean\n",
    "    denomenator = s/ sample_size**0.5\n",
    "    return numerator / denomenator"
   ]
  },
  {
   "cell_type": "code",
   "execution_count": 19,
   "metadata": {},
   "outputs": [
    {
     "name": "stdout",
     "output_type": "stream",
     "text": [
      "1.3483997249264843\n"
     ]
    }
   ],
   "source": [
    "# Calculating the z-score\n",
    "\n",
    "t = t_score(sample_size, sample_mean, pop_mean,s)\n",
    "\n",
    "print(t)"
   ]
  },
  {
   "cell_type": "code",
   "execution_count": 20,
   "metadata": {},
   "outputs": [
    {
     "data": {
      "text/plain": [
       "Text(4.25, 0.1, 'x_bar')"
      ]
     },
     "execution_count": 20,
     "metadata": {},
     "output_type": "execute_result"
    },
    {
     "data": {
      "image/png": "[encoded data removed]",
      "text/plain": [
       "<Figure size 432x288 with 1 Axes>"
      ]
     },
     "metadata": {
      "needs_background": "light"
     },
     "output_type": "display_data"
    }
   ],
   "source": [
    "# Ploting the sampling distribution with rejection regions\n",
    "\n",
    "# Defining the x minimum and x maximum\n",
    "x_min = 3.5\n",
    "x_max = 4.5\n",
    "\n",
    "\n",
    "# Defining the sampling distribution mean and sampling distribution std\n",
    "mean = pop_mean\n",
    "std = s/ sample_size**0.5\n",
    "\n",
    "\n",
    "# Ploting the graph and setting the x limits\n",
    "x = np.linspace(x_min, x_max, 100)\n",
    "y = norm.pdf(x, mean, std)\n",
    "plt.xlim(x_min, x_max)\n",
    "plt.plot(x, y)\n",
    "\n",
    "\n",
    "# Computing the right critical values (one tailed Test)\n",
    "t_critical_right = pop_mean + (t_critical * std)\n",
    "\n",
    "# Shading the right rejection region\n",
    "x2 = np.linspace(t_critical_right, x_max, 100)\n",
    "y2 = norm.pdf(x2, mean, std)\n",
    "plt.fill_between(x2, y2, color='orange')\n",
    "\n",
    "\n",
    "# Ploting the sample mean and concluding the results \n",
    "plt.scatter(sample_mean, 0)\n",
    "plt.annotate(\"x_bar\", (sample_mean, 0.1))\n",
    "\n",
    "\n",
    "# In this case sample mean falls in the rejection region\n",
    "# i.e. here we reject the Null Hypothesis\n"
   ]
  },
  {
   "cell_type": "code",
   "execution_count": 21,
   "metadata": {},
   "outputs": [
    {
     "name": "stdout",
     "output_type": "stream",
     "text": [
      "Fail to reject Null Hypothesis\n"
     ]
    }
   ],
   "source": [
    "# Conclusion using z test\n",
    "\n",
    "if(np.abs(t) > t_critical):\n",
    "    print(\"Reject Null Hypothesis\")\n",
    "else:\n",
    "    print(\"Fail to reject Null Hypothesis\")"
   ]
  },
  {
   "cell_type": "code",
   "execution_count": 22,
   "metadata": {},
   "outputs": [
    {
     "name": "stdout",
     "output_type": "stream",
     "text": [
      "p_value =  0.17752985241215358\n",
      "Fail to reject Null Hypothesis\n"
     ]
    }
   ],
   "source": [
    "p_value = 2 * (1.0 - norm.cdf(np.abs(t)))\n",
    "\n",
    "print(\"p_value = \", p_value)\n",
    "\n",
    "if(p_value < alpha):\n",
    "    print(\"Reject Null Hypothesis\")\n",
    "else:\n",
    "    print(\"Fail to reject Null Hypothesis\")"
   ]
  },
  {
   "cell_type": "markdown",
   "metadata": {},
   "source": [
    "Q-3: TATA has developed a better fuel management system for the SUV segment. They claim that with this system, on average the SUV's mileage is at least 15 km/litre?"
   ]
  },
  {
   "cell_type": "markdown",
   "metadata": {},
   "source": [
    "H0= SUV's mileage is less than or equal to 15 km/litre (Null)                                                                                      \n",
    "H1=SUV's mileage is greater than 15 km/litre(Bold Claim)                                                                                  \n",
    "population std is not given"
   ]
  },
  {
   "cell_type": "markdown",
   "metadata": {},
   "source": [
    "step:2\n",
    "    n=20                                                                                                               \n",
    "[14.08,14.13,15.65,13.78,16.26,14.97,15.36,15.81,14.53,16.79,15.78,16.98,13.23,15.43,15.46,13.88,14.31,14.41,15.76,15.38]"
   ]
  },
  {
   "cell_type": "code",
   "execution_count": 23,
   "metadata": {},
   "outputs": [
    {
     "name": "stdout",
     "output_type": "stream",
     "text": [
      "1.729132811521367\n"
     ]
    }
   ],
   "source": [
    "# One tail\n",
    "from scipy.stats import t\n",
    "alpha = 1 - 0.95\n",
    "\n",
    "t_critical = t.ppf(1-alpha, df = 19)\n",
    "\n",
    "print(t_critical)"
   ]
  },
  {
   "cell_type": "code",
   "execution_count": 24,
   "metadata": {},
   "outputs": [],
   "source": [
    "sample_size = 20\n",
    "sample_mean = 15.1\n",
    "pop_mean = 15"
   ]
  },
  {
   "cell_type": "code",
   "execution_count": 25,
   "metadata": {},
   "outputs": [
    {
     "data": {
      "text/plain": [
       "15"
      ]
     },
     "execution_count": 25,
     "metadata": {},
     "output_type": "execute_result"
    }
   ],
   "source": [
    "l=[14.08,14.13,15.65,13.78,16.26,14.97,15.36,15.81,14.53,16.79,15.78,16.98,13.23,15.43,15.46,13.88,14.31,14.41,15.76,15.38]\n",
    "round(sum(l)/len(l))"
   ]
  },
  {
   "cell_type": "code",
   "execution_count": 26,
   "metadata": {},
   "outputs": [
    {
     "data": {
      "text/plain": [
       "[1.040399999999999,\n",
       " 0.9408999999999978,\n",
       " 0.30250000000000077,\n",
       " 1.7424000000000008,\n",
       " 1.3456000000000043,\n",
       " 0.01689999999999974,\n",
       " 0.06759999999999988,\n",
       " 0.5041000000000012,\n",
       " 0.3249000000000003,\n",
       " 2.8560999999999983,\n",
       " 0.4623999999999996,\n",
       " 3.534400000000003,\n",
       " 3.496899999999997,\n",
       " 0.10890000000000005,\n",
       " 0.12960000000000088,\n",
       " 1.4883999999999973,\n",
       " 0.6240999999999987,\n",
       " 0.4760999999999993,\n",
       " 0.4356000000000002,\n",
       " 0.07840000000000064]"
      ]
     },
     "execution_count": 26,
     "metadata": {},
     "output_type": "execute_result"
    }
   ],
   "source": [
    "l1=[]\n",
    "for i in (l):\n",
    "    x=(sample_mean-i)**2\n",
    "    l1.append(x)\n",
    "l1"
   ]
  },
  {
   "cell_type": "code",
   "execution_count": 27,
   "metadata": {},
   "outputs": [
    {
     "data": {
      "text/plain": [
       "0.9994048228820992"
      ]
     },
     "execution_count": 27,
     "metadata": {},
     "output_type": "execute_result"
    }
   ],
   "source": [
    "var=sum(l1)/len(l1)\n",
    "s=(var**0.5)\n",
    "s"
   ]
  },
  {
   "cell_type": "code",
   "execution_count": 28,
   "metadata": {},
   "outputs": [],
   "source": [
    "def t_score(sample_size, sample_mean, pop_mean, s):\n",
    "    numerator = sample_mean - pop_mean\n",
    "    denomenator = s/ sample_size**0.5\n",
    "    return numerator / denomenator"
   ]
  },
  {
   "cell_type": "code",
   "execution_count": 29,
   "metadata": {},
   "outputs": [
    {
     "name": "stdout",
     "output_type": "stream",
     "text": [
      "0.4474799253122222\n"
     ]
    }
   ],
   "source": [
    "# Calculating the z-score\n",
    "\n",
    "t = t_score(sample_size, sample_mean, pop_mean,s)\n",
    "\n",
    "print(t)"
   ]
  },
  {
   "cell_type": "code",
   "execution_count": 30,
   "metadata": {},
   "outputs": [
    {
     "data": {
      "text/plain": [
       "Text(15.1, 0.1, 'x_bar')"
      ]
     },
     "execution_count": 30,
     "metadata": {},
     "output_type": "execute_result"
    },
    {
     "data": {
      "image/png": "[encoded data removed]",
      "text/plain": [
       "<Figure size 432x288 with 1 Axes>"
      ]
     },
     "metadata": {
      "needs_background": "light"
     },
     "output_type": "display_data"
    }
   ],
   "source": [
    "# Ploting the sampling distribution with rejection regions\n",
    "\n",
    "# Defining the x minimum and x maximum\n",
    "x_min = 13\n",
    "x_max = 17\n",
    "\n",
    "\n",
    "# Defining the sampling distribution mean and sampling distribution std\n",
    "mean = pop_mean\n",
    "std = s/ sample_size**0.5\n",
    "\n",
    "\n",
    "# Ploting the graph and setting the x limits\n",
    "x = np.linspace(x_min, x_max, 100)\n",
    "y = norm.pdf(x, mean, std)\n",
    "plt.xlim(x_min, x_max)\n",
    "plt.plot(x, y)\n",
    "\n",
    "\n",
    "# Computing the  right critical values (Two tailed Test)\n",
    "t_critical_right = pop_mean + (t_critical * std)\n",
    "\n",
    "# Shading the right rejection region\n",
    "x2 = np.linspace(t_critical_right, x_max, 100)\n",
    "y2 = norm.pdf(x2, mean, std)\n",
    "plt.fill_between(x2, y2, color='orange')\n",
    "\n",
    "\n",
    "# Ploting the sample mean and concluding the results \n",
    "plt.scatter(sample_mean, 0)\n",
    "plt.annotate(\"x_bar\", (sample_mean, 0.1))\n",
    "\n",
    "\n",
    "# In this case sample mean falls in the rejection region\n",
    "# i.e. here we reject the Null Hypothesis\n"
   ]
  },
  {
   "cell_type": "code",
   "execution_count": 31,
   "metadata": {},
   "outputs": [
    {
     "name": "stdout",
     "output_type": "stream",
     "text": [
      "Fail to reject Null Hypothesis\n"
     ]
    }
   ],
   "source": [
    "# Conclusion using z test\n",
    "\n",
    "if(np.abs(t) > t_critical):\n",
    "    print(\"Reject Null Hypothesis\")\n",
    "else:\n",
    "    print(\"Fail to reject Null Hypothesis\")"
   ]
  },
  {
   "cell_type": "code",
   "execution_count": 32,
   "metadata": {},
   "outputs": [
    {
     "name": "stdout",
     "output_type": "stream",
     "text": [
      "p_value =  0.6545285791169331\n",
      "Fail to reject Null Hypothesis\n"
     ]
    }
   ],
   "source": [
    "p_value = 2 * (1.0 - norm.cdf(np.abs(t)))\n",
    "\n",
    "print(\"p_value = \", p_value)\n",
    "\n",
    "if(p_value < alpha):\n",
    "    print(\"Reject Null Hypothesis\")\n",
    "else:\n",
    "    print(\"Fail to reject Null Hypothesis\")"
   ]
  },
  {
   "cell_type": "markdown",
   "metadata": {},
   "source": [
    "Q:4 You have developed a new Machine Learning Application and claim that on average it takes less than 100 ms to predict for any future datapoint. How do you convince your client about this claim?"
   ]
  },
  {
   "cell_type": "markdown",
   "metadata": {},
   "source": [
    "H0= it takes more than or equal to 100 ms(Null)                                                                                      \n",
    "H1=it takes less than 100 ms(Bold Claim)                                                                                  \n",
    "population std is not given"
   ]
  },
  {
   "cell_type": "code",
   "execution_count": 33,
   "metadata": {},
   "outputs": [],
   "source": [
    "sample_size=100                                                                                                            \n",
    "sample_mean=97.5                                                                                                  \n",
    "s=7                                                                                                                \n",
    "pop_mean=100"
   ]
  },
  {
   "cell_type": "code",
   "execution_count": 34,
   "metadata": {},
   "outputs": [
    {
     "name": "stdout",
     "output_type": "stream",
     "text": [
      "2.539483190622288\n"
     ]
    }
   ],
   "source": [
    "# One tail\n",
    "from scipy.stats import t\n",
    "alpha = 1 - 0.99\n",
    "\n",
    "t_critical = t.ppf(1-alpha, df = 19)\n",
    "\n",
    "print(t_critical)"
   ]
  },
  {
   "cell_type": "code",
   "execution_count": 35,
   "metadata": {},
   "outputs": [],
   "source": [
    "def t_score(sample_size, sample_mean, pop_mean, s):\n",
    "    numerator = sample_mean - pop_mean\n",
    "    denomenator = s/ sample_size**0.5\n",
    "    return numerator / denomenator"
   ]
  },
  {
   "cell_type": "code",
   "execution_count": 36,
   "metadata": {},
   "outputs": [
    {
     "name": "stdout",
     "output_type": "stream",
     "text": [
      "-3.5714285714285716\n"
     ]
    }
   ],
   "source": [
    "# Calculating the z-score\n",
    "\n",
    "t = t_score(sample_size, sample_mean, pop_mean,s)\n",
    "\n",
    "print(t)"
   ]
  },
  {
   "cell_type": "code",
   "execution_count": 37,
   "metadata": {},
   "outputs": [
    {
     "data": {
      "text/plain": [
       "Text(97.5, 0.0007, 'x_bar')"
      ]
     },
     "execution_count": 37,
     "metadata": {},
     "output_type": "execute_result"
    },
    {
     "data": {
      "image/png": "[encoded data removed]",
      "text/plain": [
       "<Figure size 432x288 with 1 Axes>"
      ]
     },
     "metadata": {
      "needs_background": "light"
     },
     "output_type": "display_data"
    }
   ],
   "source": [
    "# Ploting the sampling distribution with rejection regions\n",
    "\n",
    "# Defining the x minimum and x maximum\n",
    "x_min = 95\n",
    "x_max = 105\n",
    "\n",
    "\n",
    "# Defining the sampling distribution mean and sampling distribution std\n",
    "mean = pop_mean\n",
    "std = s/ sample_size**0.5\n",
    "\n",
    "\n",
    "# Ploting the graph and setting the x limits\n",
    "x = np.linspace(x_min, x_max, 100)\n",
    "y = norm.pdf(x, mean, std)\n",
    "plt.xlim(x_min, x_max)\n",
    "plt.plot(x, y)\n",
    "\n",
    "\n",
    "# Computing the left critical values (one tailed Test)\n",
    "t_critical_left = pop_mean + (-t_critical * std)\n",
    "\n",
    "\n",
    "# Shading the left rejection region\n",
    "x1 = np.linspace(x_min, t_critical_left, 100)\n",
    "y1 = norm.pdf(x1, mean, std)\n",
    "plt.fill_between(x1, y1, color='orange')\n",
    "\n",
    "# Ploting the sample mean and concluding the results \n",
    "plt.scatter(sample_mean, 0)\n",
    "plt.annotate(\"x_bar\", (sample_mean, 0.0007))\n",
    "\n",
    "\n",
    "# In this case sample mean falls in the rejection region\n",
    "# i.e. here we reject the Null Hypothesis\n"
   ]
  },
  {
   "cell_type": "code",
   "execution_count": 38,
   "metadata": {},
   "outputs": [
    {
     "name": "stdout",
     "output_type": "stream",
     "text": [
      "Reject Null Hypothesis\n"
     ]
    }
   ],
   "source": [
    "# Conclusion using z test\n",
    "\n",
    "if(np.abs(t) > t_critical):\n",
    "    print(\"Reject Null Hypothesis\")\n",
    "else:\n",
    "    print(\"Fail to reject Null Hypothesis\")"
   ]
  },
  {
   "cell_type": "code",
   "execution_count": 39,
   "metadata": {},
   "outputs": [
    {
     "name": "stdout",
     "output_type": "stream",
     "text": [
      "p_value =  0.00035503938074699093\n",
      "Reject Null Hypothesis\n"
     ]
    }
   ],
   "source": [
    "p_value = 2 * (1.0 - norm.cdf(np.abs(t)))\n",
    "\n",
    "print(\"p_value = \", p_value)\n",
    "\n",
    "if(p_value < alpha):\n",
    "    print(\"Reject Null Hypothesis\")\n",
    "else:\n",
    "    print(\"Fail to reject Null Hypothesis\")"
   ]
  },
  {
   "cell_type": "code",
   "execution_count": null,
   "metadata": {},
   "outputs": [],
   "source": []
  }
 ],
 "metadata": {
  "kernelspec": {
   "display_name": "Python 3",
   "language": "python",
   "name": "python3"
  },
  "language_info": {
   "codemirror_mode": {
    "name": "ipython",
    "version": 3
   },
   "file_extension": ".py",
   "mimetype": "text/x-python",
   "name": "python",
   "nbconvert_exporter": "python",
   "pygments_lexer": "ipython3",
   "version": "3.8.5"
  }
 },
 "nbformat": 4,
 "nbformat_minor": 4
}
