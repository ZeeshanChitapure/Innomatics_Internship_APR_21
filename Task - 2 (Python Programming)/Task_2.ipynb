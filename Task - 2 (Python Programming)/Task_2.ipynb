{
 "cells": [
  {
   "cell_type": "code",
   "execution_count": null,
   "metadata": {},
   "outputs": [],
   "source": [
    "# Quetion 1\n",
    "x = int(input())\n",
    "y = int(input())\n",
    "z = int(input())\n",
    "n = int(input())\n",
    "p=[]\n",
    "for i in range(x+1):\n",
    "    for j in range(y+1):\n",
    "        for k in range(z+1):\n",
    "            if (i+j+k!=n):\n",
    "                p.append([i,j,k])\n",
    "print(p)  "
   ]
  },
  {
   "cell_type": "code",
   "execution_count": null,
   "metadata": {},
   "outputs": [],
   "source": [
    "# Question 2\n",
    "n = int(input())\n",
    "arr = map(int, input().split())\n",
    "w=max(arr)\n",
    "a=[]\n",
    "for i in arr:\n",
    "    if i<w:\n",
    "        a.append(i)\n",
    "ru=max(a)\n",
    "print(ru)"
   ]
  },
  {
   "cell_type": "code",
   "execution_count": null,
   "metadata": {},
   "outputs": [],
   "source": [
    "# Question  3\n",
    "if __name__ == '__main__':\n",
    "    a=[]\n",
    "    b=[]\n",
    "    for _ in range(int(input())):\n",
    "        name = input()\n",
    "        score = float(input())\n",
    "        a.append(score)\n",
    "        b.append([name,score])\n",
    "    c=sorted(list(set(a)))[1]\n",
    "    d=[name for name,score in sorted(b) if score==c]\n",
    "    print(\"\\n\".join(d))"
   ]
  },
  {
   "cell_type": "code",
   "execution_count": null,
   "metadata": {},
   "outputs": [],
   "source": [
    "# Question 4\n",
    "if __name__ == '__main__':\n",
    "    n = int(input())\n",
    "    student_marks = {}\n",
    "    for _ in range(n):\n",
    "        name, *line = input().split()\n",
    "        scores = list(map(float, line))\n",
    "        student_marks[name] = scores\n",
    "    query_name = input()\n",
    "    a=0\n",
    "    for i in student_marks[query_name]:\n",
    "        a=a+i\n",
    "        \n",
    "    print(\"{0:.2f}\".format(a/3))"
   ]
  },
  {
   "cell_type": "code",
   "execution_count": null,
   "metadata": {},
   "outputs": [],
   "source": [
    "# Question 5\n",
    "if __name__ == '__main__':\n",
    "    N = int(input())\n",
    "    arr=[]\n",
    "    for i in range(N):\n",
    "        a=input().split()\n",
    "        if a[0]=='insert':\n",
    "            arr.insert(int(a[1]),int(a[2]))\n",
    "        elif a[0]=='print':\n",
    "            print(arr)\n",
    "        elif a[0]=='remove':\n",
    "            arr.remove(int(a[1]))\n",
    "        elif a[0]=='append':\n",
    "            arr.append(int(a[1]))\n",
    "        elif a[0]=='sort':\n",
    "            arr.sort()\n",
    "        elif a[0]=='pop':\n",
    "            arr.pop()\n",
    "        else:\n",
    "            arr.reverse()\n"
   ]
  },
  {
   "cell_type": "code",
   "execution_count": null,
   "metadata": {},
   "outputs": [],
   "source": [
    "# Question 6\n",
    "if __name__ == '__main__':\n",
    "    n = int(input())\n",
    "    integer_list = map(int, input().split())\n",
    "    t=tuple(integer_list)\n",
    "    print(hash(t))"
   ]
  },
  {
   "cell_type": "code",
   "execution_count": null,
   "metadata": {},
   "outputs": [],
   "source": [
    "# uestion 7\n",
    "def average(array):\n",
    "    array=set(array)\n",
    "    return sum(array)/len(array)\n",
    "\n",
    "if __name__ == '__main__':\n",
    "    n = int(input())\n",
    "    arr = list(map(int, input().split()))\n",
    "    result = average(arr)\n",
    "    print(result)"
   ]
  },
  {
   "cell_type": "code",
   "execution_count": null,
   "metadata": {},
   "outputs": [],
   "source": [
    "#Question 8\n",
    "n,m=map(int ,input().split())\n",
    "array=list(map(int ,input().split()))\n",
    "A=set(map(int ,input().split()))\n",
    "B=set(map(int ,input().split()))\n",
    "print(sum((i in A)-(i in B)for i in array))"
   ]
  },
  {
   "cell_type": "code",
   "execution_count": null,
   "metadata": {},
   "outputs": [],
   "source": [
    "# Question 9\n",
    "m=int(input())\n",
    "m_set=set(map(int, input().split()))\n",
    "n=int(input())\n",
    "n_set=set(map(int, input().split()))\n",
    "m_diff_n=m_set.difference(n_set)\n",
    "n_diff_m=n_set.difference(m_set)\n",
    "result=sorted(list(m_diff_n)+list(n_diff_m))\n",
    "print(*result,sep=\"\\n\")"
   ]
  },
  {
   "cell_type": "code",
   "execution_count": null,
   "metadata": {},
   "outputs": [],
   "source": [
    "# Question 10\n",
    "n=int(input())\n",
    "a=set()\n",
    "for i in range (n):\n",
    "    a.add(input())\n",
    "print(len(a))"
   ]
  },
  {
   "cell_type": "code",
   "execution_count": null,
   "metadata": {},
   "outputs": [],
   "source": [
    "# Question 11\n",
    "N = int(input())\n",
    "s = set(map(int, input().split()))\n",
    "m=int(input())\n",
    "\n",
    "for i in range(m):\n",
    "    s1=list(input().split())\n",
    "    if s1[0]=='pop':\n",
    "        s.pop()\n",
    "    elif s1[0]=='remove':\n",
    "        s.remove(int(s1[1]))\n",
    "    elif s1[0]=='discard':\n",
    "        s.discard(int(s1[1]))\n",
    "sum=0\n",
    "for i in s:\n",
    "    sum=sum+i\n",
    "print(sum)"
   ]
  },
  {
   "cell_type": "code",
   "execution_count": null,
   "metadata": {},
   "outputs": [],
   "source": [
    "# Question 11\n",
    "n=int(input())\n",
    "n_set=set(map(int, input().split()))\n",
    "m=int(input())\n",
    "m_set=set(map(int, input().split()))\n",
    "res=n_set.union(m_set)\n",
    "count=0\n",
    "for i in res:\n",
    "    count=count+1\n",
    "print(count)"
   ]
  },
  {
   "cell_type": "code",
   "execution_count": null,
   "metadata": {},
   "outputs": [],
   "source": [
    "# Question 12\n",
    "n=int(input())\n",
    "n_set=set(map(int, input().split()))\n",
    "m=int(input())\n",
    "m_set=set(map(int, input().split()))\n",
    "res=n_set.intersection(m_set)\n",
    "count=0\n",
    "for i in res:\n",
    "    count=count+1\n",
    "print(count)"
   ]
  },
  {
   "cell_type": "code",
   "execution_count": null,
   "metadata": {},
   "outputs": [],
   "source": [
    "#Question 13\n",
    "n=int(input())\n",
    "n_set=set(map(int, input().split()))\n",
    "m=int(input())\n",
    "m_set=set(map(int, input().split()))\n",
    "res=n_set.difference(m_set)\n",
    "count=0\n",
    "for i in res:\n",
    "    count=count+1\n",
    "print(count)"
   ]
  },
  {
   "cell_type": "code",
   "execution_count": null,
   "metadata": {},
   "outputs": [],
   "source": [
    "# Question 14\n",
    "n=int(input())\n",
    "n_set=set(map(int, input().split()))\n",
    "m=int(input())\n",
    "m_set=set(map(int, input().split()))\n",
    "res=n_set.symmetric_difference(m_set)\n",
    "count=0\n",
    "for i in res:\n",
    "    count=count+1\n",
    "print(count)"
   ]
  },
  {
   "cell_type": "code",
   "execution_count": null,
   "metadata": {},
   "outputs": [],
   "source": [
    "# Question 15\n",
    "input()\n",
    "A=set(map(int, input().split()))\n",
    "m=int(input())\n",
    "for i in range(m):\n",
    "    cmd=(input().split())[0]\n",
    "    B=set(map(int, input().split()))\n",
    "    if cmd=='intersection_update':\n",
    "        A.intersection_update(B)\n",
    "    elif cmd== 'difference_update':\n",
    "        A.difference_update(B)\n",
    "    elif cmd=='symmetric_difference_update':\n",
    "        A.symmetric_difference_update(B)\n",
    "    elif cmd=='update':\n",
    "        A.update(B)\n",
    "print(sum(A))"
   ]
  },
  {
   "cell_type": "code",
   "execution_count": null,
   "metadata": {},
   "outputs": [],
   "source": [
    "# Question 16\n",
    "n=int(input())\n",
    "room=list(map(int, input().split()))\n",
    "a=set()\n",
    "b=set()\n",
    "for i in room:\n",
    "    if i not in a:\n",
    "        a.add(i)\n",
    "        b.add(i)\n",
    "    else:\n",
    "        b.discard(i)\n",
    "b=list(b)\n",
    "print(b[0])"
   ]
  },
  {
   "cell_type": "code",
   "execution_count": null,
   "metadata": {},
   "outputs": [],
   "source": [
    "#Question 17\n",
    "t=int(input())\n",
    "for i in range(t):\n",
    "    n=int(input())\n",
    "    A=set(map(int, input().split()))\n",
    "    m=int(input())\n",
    "    B=set(map(int, input().split()))\n",
    "    S=[]\n",
    "    for i in A:\n",
    "        if i in B:\n",
    "            S.append(i)\n",
    "    S=set(S)\n",
    "    if S==A:\n",
    "        print(True)\n",
    "    else:\n",
    "        print(False)"
   ]
  },
  {
   "cell_type": "code",
   "execution_count": null,
   "metadata": {},
   "outputs": [],
   "source": [
    "#Question 18\n",
    "A=set(map(int, input().split()))\n",
    "n=int(input())\n",
    "S=[]\n",
    "for i in range (n):\n",
    "    B=set(map(int, input().split()))\n",
    "    if B.issubset(A):\n",
    "        if len(A)==len(B):\n",
    "            S.append(0)\n",
    "        else:\n",
    "            S.append(1)\n",
    "            \n",
    "    else:\n",
    "        S.append(0)\n",
    "if all(S)==1:\n",
    "    print(True)\n",
    "else:\n",
    "    print(False)\n"
   ]
  }
 ],
 "metadata": {
  "kernelspec": {
   "display_name": "Python 3",
   "language": "python",
   "name": "python3"
  },
  "language_info": {
   "codemirror_mode": {
    "name": "ipython",
    "version": 3
   },
   "file_extension": ".py",
   "mimetype": "text/x-python",
   "name": "python",
   "nbconvert_exporter": "python",
   "pygments_lexer": "ipython3",
   "version": "3.8.5"
  }
 },
 "nbformat": 4,
 "nbformat_minor": 4
}
