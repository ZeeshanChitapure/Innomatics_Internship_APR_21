{
 "cells": [
  {
   "cell_type": "code",
   "execution_count": null,
   "metadata": {},
   "outputs": [],
   "source": [
    "# Question 1\n",
    "import math\n",
    "def binomial(r,n,p):\n",
    "    x=(math.factorial(n)/(math.factorial(r)*math.factorial(n-r)))*(p**r)*((1-p)**(n-r))\n",
    "    return(x)\n",
    "x,p,n=0,1.09/2.09,6\n",
    "for i in range(3,7):\n",
    "    x+=binomial(i,n,p)\n",
    "print(\"%.3f\"%x)"
   ]
  },
  {
   "cell_type": "code",
   "execution_count": null,
   "metadata": {},
   "outputs": [],
   "source": [
    "# Question 2\n",
    "import math\n",
    "def binomial(r,n,p):\n",
    "    x=(math.factorial(n)/(math.factorial(r)*math.factorial(n-r)))*(p**r)*((1-p)**(n-r))\n",
    "    return(x)\n",
    "p,n=list(map(int, input().split(\" \")))\n",
    "p=p/100\n",
    "print(round(sum([binomial(i,n,p) for i in range(3)]),3))\n",
    "print(round(sum([binomial(i,n,p) for i in range(2,n+1)]),3))"
   ]
  },
  {
   "cell_type": "code",
   "execution_count": null,
   "metadata": {},
   "outputs": [],
   "source": [
    "# Question 3\n",
    "import math\n",
    "mean,std=map(int,input().split())\n",
    "X1=float(input())\n",
    "X2,X3=map(int,input().split())\n",
    "def nd(X1,mean,std):\n",
    "    return round(0.5*(1+math.erf((X1-mean)/(std*(2**0.5)))),3)\n",
    "o1=nd(X1,mean,std)\n",
    "print(o1)\n",
    "o2=nd(X3,mean,std)-nd(X2,mean,std)\n",
    "print(round((o2),3))"
   ]
  },
  {
   "cell_type": "code",
   "execution_count": null,
   "metadata": {},
   "outputs": [],
   "source": [
    "# Question 4\n",
    "import math\n",
    "mean,std=map(int,input().split())\n",
    "x1=int(input())\n",
    "x2=int(input())\n",
    "def nd(x1,mean,std):\n",
    "    return (0.5*(1+math.erf((x1-mean)/(std*(2**0.5)))))\n",
    "o1=round((1-nd(x1,mean,std))*100,2)\n",
    "print(o1)\n",
    "o2=round((1-nd(x2,mean,std))*100,2)\n",
    "print(o2)\n",
    "o3=round(nd(x2,mean,std)*100,2)\n",
    "print(o3)"
   ]
  },
  {
   "cell_type": "code",
   "execution_count": null,
   "metadata": {},
   "outputs": [],
   "source": [
    "# Question 5\n",
    "import math\n",
    "mw=int(input())\n",
    "n=int(input())\n",
    "mean=int(input())\n",
    "std=int(input())\n",
    "def CLT(mw,n,mean,std):\n",
    "    mean1=n*mean\n",
    "    std1=(n**0.5)*std\n",
    "    return round(0.5*(1+math.erf((mw-mean1)/(std1*(2**0.5)))),4)\n",
    "o=CLT(mw,n,mean,std)\n",
    "print(o)"
   ]
  },
  {
   "cell_type": "code",
   "execution_count": null,
   "metadata": {},
   "outputs": [],
   "source": [
    "# Question 6\n",
    "import math\n",
    "mw=int(input())\n",
    "n=int(input())\n",
    "mean=float(input())\n",
    "std=float(input())\n",
    "def CLT(mw,n,mean,std):\n",
    "    mean1=n*mean\n",
    "    std1=(n**0.5)*std\n",
    "    return round(0.5*(1+math.erf((mw-mean1)/(std1*(2**0.5)))),4)\n",
    "o=CLT(mw,n,mean,std)\n",
    "print(o)"
   ]
  },
  {
   "cell_type": "code",
   "execution_count": null,
   "metadata": {},
   "outputs": [],
   "source": [
    "# Question 7\n",
    "n=int(input())\n",
    "mean=float(input())\n",
    "std=float(input())\n",
    "interval=float(input())\n",
    "z=float(input())\n",
    "def CLT(n,std):\n",
    "    x=std/(n**0.5)\n",
    "    return x\n",
    "o1=round(mean-CLT(n,std)*z,2)\n",
    "print(o1)\n",
    "o2=round(mean+CLT(n,std)*z,2)\n",
    "print(o2)"
   ]
  },
  {
   "cell_type": "code",
   "execution_count": null,
   "metadata": {},
   "outputs": [],
   "source": [
    "# Question 8\n",
    "n= int(input()) \n",
    "x= list(map(float,input().strip().split()))\n",
    "y= list(map(float,input().strip().split())) \n",
    "xmean= sum(x)/n \n",
    "ymean= sum(y)/n \n",
    "xstd = (sum([(i - xmean)**2 for i in x])/n)**0.5\n",
    "ystd = (sum([(i - ymean)**2 for i in y])/n)**0.5 \n",
    "Numerator = sum([(x[i] - xmean) * (y[i] -ymean) for i in range(n)]) \n",
    "o= Numerator/(n *xstd*ystd) \n",
    "print(round(o,3))"
   ]
  },
  {
   "cell_type": "code",
   "execution_count": null,
   "metadata": {},
   "outputs": [],
   "source": [
    "# Question 9\n",
    "p,q = [],[] \n",
    "for i in range(5): \n",
    "    mean,std= map(int,input().split()) \n",
    "    p.append(mean) \n",
    "    q.append(std) \n",
    "def b_value(x,y):\n",
    "    n = len(x) \n",
    "    xy =[x[i]*y[i] for i in range(n) ] \n",
    "    xsquare = [i**2 for i in x]\n",
    "    b = (n*(sum(xy))-((sum(x)*sum(y))))/float(((n*sum(xsquare))-sum(x)**2)) \n",
    "    return b \n",
    "def ab_values(x,y): \n",
    "    xmean = sum(x)/float(len(x)) \n",
    "    ymean = sum(y)/float(len(y)) \n",
    "    b = b_value(x,y) \n",
    "    a = ymean - b*xmean \n",
    "    return a,b \n",
    "a,b = ab_values(p,q)\n",
    "print(a + b*80)"
   ]
  },
  {
   "cell_type": "code",
   "execution_count": null,
   "metadata": {},
   "outputs": [],
   "source": [
    "# Question 10\n",
    "from sklearn.linear_model import LinearRegression\n",
    "m,n = map(int,input().split())\n",
    "x,y = [],[]\n",
    "for i in range(n): \n",
    "    vals=list(map(float,input().strip().split())) \n",
    "    x.append(vals[:-1]) \n",
    "    y.append(vals[-1]) \n",
    "q = int(input())\n",
    "xtest = []\n",
    "for i in range(q): \n",
    "    vals1=list(map(float,input().split()))\n",
    "    xtest.append(vals1)\n",
    "lr= LinearRegression()\n",
    "model=lr.fit(x,y) \n",
    "ypred = model.predict(xtest)\n",
    "for i in ypred: \n",
    "    print(i)"
   ]
  },
  {
   "cell_type": "code",
   "execution_count": null,
   "metadata": {},
   "outputs": [],
   "source": []
  }
 ],
 "metadata": {
  "kernelspec": {
   "display_name": "Python 3",
   "language": "python",
   "name": "python3"
  },
  "language_info": {
   "codemirror_mode": {
    "name": "ipython",
    "version": 3
   },
   "file_extension": ".py",
   "mimetype": "text/x-python",
   "name": "python",
   "nbconvert_exporter": "python",
   "pygments_lexer": "ipython3",
   "version": "3.8.5"
  }
 },
 "nbformat": 4,
 "nbformat_minor": 4
}
